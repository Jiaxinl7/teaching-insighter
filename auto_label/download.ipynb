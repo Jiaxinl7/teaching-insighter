{
 "cells": [
  {
   "cell_type": "code",
   "execution_count": 1,
   "metadata": {},
   "outputs": [
    {
     "name": "stdout",
     "output_type": "stream",
     "text": [
      "showing info https://raw.githubusercontent.com/nltk/nltk_data/gh-pages/index.xml\n"
     ]
    },
    {
     "data": {
      "text/plain": [
       "True"
      ]
     },
     "execution_count": 1,
     "metadata": {},
     "output_type": "execute_result"
    }
   ],
   "source": [
    "import nltk\n",
    "nltk.download()"
   ]
  },
  {
   "cell_type": "code",
   "execution_count": 1,
   "metadata": {},
   "outputs": [
    {
     "name": "stdout",
     "output_type": "stream",
     "text": [
      "showing info https://raw.githubusercontent.com/nltk/nltk_data/gh-pages/index.xml\n"
     ]
    },
    {
     "data": {
      "text/plain": [
       "True"
      ]
     },
     "execution_count": 1,
     "metadata": {},
     "output_type": "execute_result"
    }
   ],
   "source": [
    "import nltk\n",
    "import ssl\n",
    "\n",
    "try:\n",
    "    _create_unverified_https_context = ssl._create_unverified_context\n",
    "except AttributeError:\n",
    "    pass\n",
    "else:\n",
    "    ssl._create_default_https_context = _create_unverified_https_context\n",
    "\n",
    "nltk.download()"
   ]
  },
  {
   "cell_type": "code",
   "execution_count": 18,
   "metadata": {},
   "outputs": [
    {
     "name": "stdout",
     "output_type": "stream",
     "text": [
      "Index(['Lesson', 'Topic', 'TEXT'], dtype='object')\n"
     ]
    }
   ],
   "source": [
    "import pandas as pd\n",
    "\n",
    "df = pd.read_csv('cs510.csv')\n",
    "print(df.columns)\n",
    "df = df[df['Lesson'] == '3']\n",
    "df.set_index('TEXT')\n",
    "df = df['TEXT']\n",
    "df.to_csv('cs510.dat')"
   ]
  },
  {
   "cell_type": "code",
   "execution_count": 19,
   "metadata": {},
   "outputs": [
    {
     "data": {
      "text/html": [
       "<div>\n",
       "<style scoped>\n",
       "    .dataframe tbody tr th:only-of-type {\n",
       "        vertical-align: middle;\n",
       "    }\n",
       "\n",
       "    .dataframe tbody tr th {\n",
       "        vertical-align: top;\n",
       "    }\n",
       "\n",
       "    .dataframe thead th {\n",
       "        text-align: right;\n",
       "    }\n",
       "</style>\n",
       "<table border=\"1\" class=\"dataframe\">\n",
       "  <thead>\n",
       "    <tr style=\"text-align: right;\">\n",
       "      <th></th>\n",
       "      <th>Lesson</th>\n",
       "      <th>Topic</th>\n",
       "      <th>TEXT</th>\n",
       "    </tr>\n",
       "  </thead>\n",
       "  <tbody>\n",
       "    <tr>\n",
       "      <th>0</th>\n",
       "      <td>2</td>\n",
       "      <td>Entropy</td>\n",
       "      <td>In information science, entropy is a measure o...</td>\n",
       "    </tr>\n",
       "    <tr>\n",
       "      <th>1</th>\n",
       "      <td>2</td>\n",
       "      <td>Cross Entropy</td>\n",
       "      <td>Cross entropy is a measure of the difference b...</td>\n",
       "    </tr>\n",
       "    <tr>\n",
       "      <th>2</th>\n",
       "      <td>2</td>\n",
       "      <td>Relative Entropy</td>\n",
       "      <td>Relative entropy is a measure of how different...</td>\n",
       "    </tr>\n",
       "    <tr>\n",
       "      <th>3</th>\n",
       "      <td>2</td>\n",
       "      <td>Conditional Entropy</td>\n",
       "      <td>The conditional entropy of a random variable X...</td>\n",
       "    </tr>\n",
       "    <tr>\n",
       "      <th>4</th>\n",
       "      <td>2</td>\n",
       "      <td>KL-Divergence</td>\n",
       "      <td>KL-divergence is a measure of how different tw...</td>\n",
       "    </tr>\n",
       "    <tr>\n",
       "      <th>5</th>\n",
       "      <td>2</td>\n",
       "      <td>Mutual Information</td>\n",
       "      <td>Mutual information is a measure of the amount ...</td>\n",
       "    </tr>\n",
       "    <tr>\n",
       "      <th>6</th>\n",
       "      <td>2</td>\n",
       "      <td>Statistical Language Model</td>\n",
       "      <td>A statistical language model is a mathematical...</td>\n",
       "    </tr>\n",
       "    <tr>\n",
       "      <th>7</th>\n",
       "      <td>2</td>\n",
       "      <td>Unigram</td>\n",
       "      <td>A unigram language model is a statistical lang...</td>\n",
       "    </tr>\n",
       "    <tr>\n",
       "      <th>8</th>\n",
       "      <td>2</td>\n",
       "      <td>N-gram Language Model</td>\n",
       "      <td>An N-gram language model is a statistical lang...</td>\n",
       "    </tr>\n",
       "    <tr>\n",
       "      <th>9</th>\n",
       "      <td>2</td>\n",
       "      <td>Language Model</td>\n",
       "      <td>There are several major types of language mode...</td>\n",
       "    </tr>\n",
       "  </tbody>\n",
       "</table>\n",
       "</div>"
      ],
      "text/plain": [
       "  Lesson                       Topic  \\\n",
       "0      2                     Entropy   \n",
       "1      2               Cross Entropy   \n",
       "2      2            Relative Entropy   \n",
       "3      2         Conditional Entropy   \n",
       "4      2               KL-Divergence   \n",
       "5      2          Mutual Information   \n",
       "6      2  Statistical Language Model   \n",
       "7      2                     Unigram   \n",
       "8      2       N-gram Language Model   \n",
       "9      2              Language Model   \n",
       "\n",
       "                                                TEXT  \n",
       "0  In information science, entropy is a measure o...  \n",
       "1  Cross entropy is a measure of the difference b...  \n",
       "2  Relative entropy is a measure of how different...  \n",
       "3  The conditional entropy of a random variable X...  \n",
       "4  KL-divergence is a measure of how different tw...  \n",
       "5  Mutual information is a measure of the amount ...  \n",
       "6  A statistical language model is a mathematical...  \n",
       "7  A unigram language model is a statistical lang...  \n",
       "8  An N-gram language model is a statistical lang...  \n",
       "9  There are several major types of language mode...  "
      ]
     },
     "execution_count": 19,
     "metadata": {},
     "output_type": "execute_result"
    }
   ],
   "source": [
    "df = pd.read_csv('cs510.csv')\n",
    "df[df['Lesson']=='2']"
   ]
  },
  {
   "cell_type": "code",
   "execution_count": 24,
   "metadata": {},
   "outputs": [
    {
     "name": "stdout",
     "output_type": "stream",
     "text": [
      "Index(['Timestamp', 'What is the pre-lecture number?',\n",
      "       'Please list your questions  below. ', 'Unnamed: 3'],\n",
      "      dtype='object')\n"
     ]
    }
   ],
   "source": [
    "import pandas as pd\n",
    "\n",
    "df = pd.read_csv('data411.csv')\n",
    "print(df.columns)\n",
    "df.set_index('Please list your questions  below. ')\n",
    "df = df['Please list your questions  below. ']\n",
    "df.to_csv('data411.dat')"
   ]
  },
  {
   "cell_type": "code",
   "execution_count": 51,
   "metadata": {},
   "outputs": [
    {
     "name": "stdout",
     "output_type": "stream",
     "text": [
      "Index(['lesson', 'topic', 'text', 'Unnamed: 3', 'Unnamed: 4'], dtype='object')\n"
     ]
    }
   ],
   "source": [
    "df2 = pd.read_csv('database.csv')\n",
    "print(df2.columns)\n",
    "df2.set_index('text')\n",
    "df2 = df2[df2['lesson'] == 3]\n",
    "df2 = df2['text']\n",
    "df2.to_csv('database.dat')"
   ]
  },
  {
   "cell_type": "code",
   "execution_count": 54,
   "metadata": {},
   "outputs": [
    {
     "name": "stdout",
     "output_type": "stream",
     "text": [
      "Index(['lesson', 'topic', 'text'], dtype='object')\n"
     ]
    }
   ],
   "source": [
    "df3 = pd.read_csv('db.csv')\n",
    "print(df3.columns)\n",
    "df3.set_index('text')\n",
    "#df3 = df3[df3['lesson']/2 == 0]\n",
    "df3 = df3['text']\n",
    "df3.to_csv('database.dat')"
   ]
  },
  {
   "cell_type": "code",
   "execution_count": null,
   "metadata": {},
   "outputs": [],
   "source": [
    "df"
   ]
  },
  {
   "cell_type": "markdown",
   "metadata": {},
   "source": []
  }
 ],
 "metadata": {
  "interpreter": {
   "hash": "aee8b7b246df8f9039afb4144a1f6fd8d2ca17a180786b69acc140d282b71a49"
  },
  "kernelspec": {
   "display_name": "Python 3.6.8 64-bit",
   "language": "python",
   "name": "python3"
  },
  "language_info": {
   "codemirror_mode": {
    "name": "ipython",
    "version": 3
   },
   "file_extension": ".py",
   "mimetype": "text/x-python",
   "name": "python",
   "nbconvert_exporter": "python",
   "pygments_lexer": "ipython3",
   "version": "3.6.8"
  },
  "orig_nbformat": 4
 },
 "nbformat": 4,
 "nbformat_minor": 2
}
